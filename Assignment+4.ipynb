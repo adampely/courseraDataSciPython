{
 "cells": [
  {
   "cell_type": "markdown",
   "metadata": {},
   "source": [
    "---\n",
    "\n",
    "_You are currently looking at **version 1.1** of this notebook. To download notebooks and datafiles, as well as get help on Jupyter notebooks in the Coursera platform, visit the [Jupyter Notebook FAQ](https://www.coursera.org/learn/python-data-analysis/resources/0dhYG) course resource._\n",
    "\n",
    "---"
   ]
  },
  {
   "cell_type": "code",
   "execution_count": 2,
   "metadata": {
    "collapsed": true
   },
   "outputs": [],
   "source": [
    "import pandas as pd\n",
    "import numpy as np\n",
    "from scipy.stats import ttest_ind"
   ]
  },
  {
   "cell_type": "markdown",
   "metadata": {},
   "source": [
    "# Assignment 4 - Hypothesis Testing\n",
    "This assignment requires more individual learning than previous assignments - you are encouraged to check out the [pandas documentation](http://pandas.pydata.org/pandas-docs/stable/) to find functions or methods you might not have used yet, or ask questions on [Stack Overflow](http://stackoverflow.com/) and tag them as pandas and python related. And of course, the discussion forums are open for interaction with your peers and the course staff.\n",
    "\n",
    "Definitions:\n",
    "* A _quarter_ is a specific three month period, Q1 is January through March, Q2 is April through June, Q3 is July through September, Q4 is October through December.\n",
    "* A _recession_ is defined as starting with two consecutive quarters of GDP decline, and ending with two consecutive quarters of GDP growth.\n",
    "* A _recession bottom_ is the quarter within a recession which had the lowest GDP.\n",
    "* A _university town_ is a city which has a high percentage of university students compared to the total population of the city.\n",
    "\n",
    "**Hypothesis**: University towns have their mean housing prices less effected by recessions. Run a t-test to compare the ratio of the mean price of houses in university towns the quarter before the recession starts compared to the recession bottom. (`price_ratio=quarter_before_recession/recession_bottom`)\n",
    "\n",
    "The following data files are available for this assignment:\n",
    "* From the [Zillow research data site](http://www.zillow.com/research/data/) there is housing data for the United States. In particular the datafile for [all homes at a city level](http://files.zillowstatic.com/research/public/City/City_Zhvi_AllHomes.csv), ```City_Zhvi_AllHomes.csv```, has median home sale prices at a fine grained level.\n",
    "* From the Wikipedia page on college towns is a list of [university towns in the United States](https://en.wikipedia.org/wiki/List_of_college_towns#College_towns_in_the_United_States) which has been copy and pasted into the file ```university_towns.txt```.\n",
    "* From Bureau of Economic Analysis, US Department of Commerce, the [GDP over time](http://www.bea.gov/national/index.htm#gdp) of the United States in current dollars (use the chained value in 2009 dollars), in quarterly intervals, in the file ```gdplev.xls```. For this assignment, only look at GDP data from the first quarter of 2000 onward.\n",
    "\n",
    "Each function in this assignment below is worth 10%, with the exception of ```run_ttest()```, which is worth 50%."
   ]
  },
  {
   "cell_type": "code",
   "execution_count": 3,
   "metadata": {
    "collapsed": false
   },
   "outputs": [],
   "source": [
    "# Use this dictionary to map state names to two letter acronyms\n",
    "states = {'OH': 'Ohio', 'KY': 'Kentucky', 'AS': 'American Samoa', 'NV': 'Nevada', 'WY': 'Wyoming', 'NA': 'National', 'AL': 'Alabama', 'MD': 'Maryland', 'AK': 'Alaska', 'UT': 'Utah', 'OR': 'Oregon', 'MT': 'Montana', 'IL': 'Illinois', 'TN': 'Tennessee', 'DC': 'District of Columbia', 'VT': 'Vermont', 'ID': 'Idaho', 'AR': 'Arkansas', 'ME': 'Maine', 'WA': 'Washington', 'HI': 'Hawaii', 'WI': 'Wisconsin', 'MI': 'Michigan', 'IN': 'Indiana', 'NJ': 'New Jersey', 'AZ': 'Arizona', 'GU': 'Guam', 'MS': 'Mississippi', 'PR': 'Puerto Rico', 'NC': 'North Carolina', 'TX': 'Texas', 'SD': 'South Dakota', 'MP': 'Northern Mariana Islands', 'IA': 'Iowa', 'MO': 'Missouri', 'CT': 'Connecticut', 'WV': 'West Virginia', 'SC': 'South Carolina', 'LA': 'Louisiana', 'KS': 'Kansas', 'NY': 'New York', 'NE': 'Nebraska', 'OK': 'Oklahoma', 'FL': 'Florida', 'CA': 'California', 'CO': 'Colorado', 'PA': 'Pennsylvania', 'DE': 'Delaware', 'NM': 'New Mexico', 'RI': 'Rhode Island', 'MN': 'Minnesota', 'VI': 'Virgin Islands', 'NH': 'New Hampshire', 'MA': 'Massachusetts', 'GA': 'Georgia', 'ND': 'North Dakota', 'VA': 'Virginia'}"
   ]
  },
  {
   "cell_type": "code",
   "execution_count": 4,
   "metadata": {
    "collapsed": false
   },
   "outputs": [
    {
     "data": {
      "text/plain": [
       "'df = get_list_of_university_towns()\\ncols = [\"State\", \"RegionName\"]\\n\\nprint(\\'Shape test: \\', \"Passed\" if df.shape ==\\n      (517, 2) else \\'Failed\\')\\nprint(\\'Index test: \\'\\n      \"Passed\" if df.index.tolist() == list(range(517))\\n      else \\'Failed\\')\\n\\nprint(\\'Column test: \\',\\n      \"Passed\" if df.columns.tolist() == cols else \\'Failed\\')\\nprint(\\'\\\\n test: \\',\\n      \"Failed\" if any(df[cols[0]].str.contains(\\n          \\'\\n\\')) or any(df[cols[1]].str.contains(\\'\\n\\'))\\n      else \\'Passed\\')\\nprint(\\'Trailing whitespace test:\\',\\n      \"Failed\" if any(df[cols[0]].str.contains(\\n          \\'\\\\s+$\\')) or any(df[cols[1]].str.contains(\\n          \\'\\\\s+$\\'))\\n      else \\'Passed\\')\\nprint(\\'\"(\" test:\\',\\n      \"Failed\" if any(df[cols[0]].str.contains(\\n          \\'\\\\(\\')) or any(df[cols[1]].str.contains(\\n          \\'\\\\(\\'))\\n      else \\'Passed\\')\\nprint(\\'\"[\" test:\\',\\n      \"Failed\" if any(df[cols[0]].str.contains(\\n          \\'\\\\[\\')) or any(df[cols[1]].str.contains(\\n          \\'\\\\]\\'))\\n      else \\'Passed\\')\\n# from troubleshooting learners code, using incorrect regex\\n# for RegionName usually generates these common mismatches\\nrgn_rgx_mstch = [\\n    \\'Pomona\\', \\'Mankato\\', \\'Fulton\\', \\'Sewanee\\']\\nrgn_loc = (33, 218, 237, 442)\\nprint (\\'RegionName regex test: \\', \"Passed\" if all(df.loc[\\n       rgn_loc, \\'RegionName\\'] == rgn_rgx_mstch)\\n       else \"Failed\")\\n# when using split or find to extract regionName, these are\\n# common mismatches\\nrgn_splt_msmtch = [\\n    \\'The Five College Region of Western Massachusetts:\\',\\n    \\'Faribault, South Central College\\']\\nrgn_loc = (184, 217)\\nprint (\\'RegionName regex test: \\', \"Passed\" if all(df.loc[\\n       rgn_loc, \\'RegionName\\'] == rgn_splt_msmtch)\\n       else \"Failed\")\\nrgn_loc = (184, 217)\\nprint (\\'RegionName regex test: \\', df.loc[\\n       rgn_loc, \\'RegionName\\']) \\n#test if . was  inadvertently removed\\nprint(\\'RegionName regex test:\\',\"Passed\" if any(df[cols[1]].str.contains(\\n          \\'\\\\.\\')) else \"Failed\")\\n# use the values of the states dictionary precoded to verify\\n# state names are as expected\\nstates_vlist = list(sorted(states.values()))\\nmismatchedStates = df[~df[\\'State\\'].isin(\\n    states_vlist)].loc[:, \\'State\\'].unique()\\nprint (\\'State regex test: \\', \"Passed\" if len(\\n    mismatchedStates) == 0 else \"Failed\")\\nif len(mismatchedStates) > 0:\\n    print()\\n    print(\\'The following states failed the equality test:\\')\\n    print()\\n    print(\\'\\n\\'.join(mismatchedStates))\\nprint_full(df)'"
      ]
     },
     "execution_count": 4,
     "metadata": {},
     "output_type": "execute_result"
    }
   ],
   "source": [
    "def print_full(x):\n",
    "    pd.set_option('display.max_rows', len(x))\n",
    "    print(x)\n",
    "    pd.reset_option('display.max_rows')\n",
    "    \n",
    "def get_list_of_university_towns():\n",
    "    '''Returns a DataFrame of towns and the states they are in from the \n",
    "    university_towns.txt list. The format of the DataFrame should be:\n",
    "    DataFrame( [ [\"Michigan\", \"Ann Arbor\"], [\"Michigan\", \"Yipsilanti\"] ], \n",
    "    columns=[\"State\", \"RegionName\"]  )\n",
    "    \n",
    "    The following cleaning needs to be done:\n",
    "\n",
    "    1. For \"State\", removing characters from \"[\" to the end.\n",
    "    2. For \"RegionName\", when applicable, removing every character from \" (\" to the end.\n",
    "    3. Depending on how you read the data, you may need to remove newline character '\\n'. '''\n",
    "    file = open('university_towns.txt')\n",
    "    townAndState = file.readlines()\n",
    "    #k=townList[1]\n",
    "    townList = []\n",
    "    for town in townAndState:\n",
    "        #if 'Consortium' in town:\n",
    "        #    continue\n",
    "        #if 'Region' in town:\n",
    "        #    continue\n",
    "        if '(' in town:\n",
    "            cutTown = town[0:(town.find('(')-1)]\n",
    "        else:\n",
    "            cutTown = town[0:-1]\n",
    "        if 'edit' in cutTown: # [] indicates a state\n",
    "            state = cutTown[0:cutTown.find('[')]\n",
    "            continue\n",
    "        #if ',' in cutTown:\n",
    "        #    cutTown = cutTown[0:(cutTown.find(','))]\n",
    "        townList.append([state, cutTown])\n",
    "    answer = pd.DataFrame(townList, columns=[\"State\", \"RegionName\"])\n",
    "    return answer\n",
    "\n",
    "\"\"\"df = get_list_of_university_towns()\n",
    "cols = [\"State\", \"RegionName\"]\n",
    "\n",
    "print('Shape test: ', \"Passed\" if df.shape ==\n",
    "      (517, 2) else 'Failed')\n",
    "print('Index test: '\n",
    "      \"Passed\" if df.index.tolist() == list(range(517))\n",
    "      else 'Failed')\n",
    "\n",
    "print('Column test: ',\n",
    "      \"Passed\" if df.columns.tolist() == cols else 'Failed')\n",
    "print('\\\\n test: ',\n",
    "      \"Failed\" if any(df[cols[0]].str.contains(\n",
    "          '\\n')) or any(df[cols[1]].str.contains('\\n'))\n",
    "      else 'Passed')\n",
    "print('Trailing whitespace test:',\n",
    "      \"Failed\" if any(df[cols[0]].str.contains(\n",
    "          '\\s+$')) or any(df[cols[1]].str.contains(\n",
    "          '\\s+$'))\n",
    "      else 'Passed')\n",
    "print('\"(\" test:',\n",
    "      \"Failed\" if any(df[cols[0]].str.contains(\n",
    "          '\\(')) or any(df[cols[1]].str.contains(\n",
    "          '\\('))\n",
    "      else 'Passed')\n",
    "print('\"[\" test:',\n",
    "      \"Failed\" if any(df[cols[0]].str.contains(\n",
    "          '\\[')) or any(df[cols[1]].str.contains(\n",
    "          '\\]'))\n",
    "      else 'Passed')\n",
    "# from troubleshooting learners code, using incorrect regex\n",
    "# for RegionName usually generates these common mismatches\n",
    "rgn_rgx_mstch = [\n",
    "    'Pomona', 'Mankato', 'Fulton', 'Sewanee']\n",
    "rgn_loc = (33, 218, 237, 442)\n",
    "print ('RegionName regex test: ', \"Passed\" if all(df.loc[\n",
    "       rgn_loc, 'RegionName'] == rgn_rgx_mstch)\n",
    "       else \"Failed\")\n",
    "# when using split or find to extract regionName, these are\n",
    "# common mismatches\n",
    "rgn_splt_msmtch = [\n",
    "    'The Five College Region of Western Massachusetts:',\n",
    "    'Faribault, South Central College']\n",
    "rgn_loc = (184, 217)\n",
    "print ('RegionName regex test: ', \"Passed\" if all(df.loc[\n",
    "       rgn_loc, 'RegionName'] == rgn_splt_msmtch)\n",
    "       else \"Failed\")\n",
    "rgn_loc = (184, 217)\n",
    "print ('RegionName regex test: ', df.loc[\n",
    "       rgn_loc, 'RegionName']) \n",
    "#test if . was  inadvertently removed\n",
    "print('RegionName regex test:',\"Passed\" if any(df[cols[1]].str.contains(\n",
    "          '\\.')) else \"Failed\")\n",
    "# use the values of the states dictionary precoded to verify\n",
    "# state names are as expected\n",
    "states_vlist = list(sorted(states.values()))\n",
    "mismatchedStates = df[~df['State'].isin(\n",
    "    states_vlist)].loc[:, 'State'].unique()\n",
    "print ('State regex test: ', \"Passed\" if len(\n",
    "    mismatchedStates) == 0 else \"Failed\")\n",
    "if len(mismatchedStates) > 0:\n",
    "    print()\n",
    "    print('The following states failed the equality test:')\n",
    "    print()\n",
    "    print('\\n'.join(mismatchedStates))\n",
    "print_full(df)\"\"\""
   ]
  },
  {
   "cell_type": "code",
   "execution_count": 5,
   "metadata": {
    "collapsed": false
   },
   "outputs": [],
   "source": [
    "def get_recession_start():\n",
    "    '''Returns the year and quarter of the recession start time as a \n",
    "    string value in a format such as 2005q3'''\n",
    "    df = pd.read_excel('gdplev.xls', header = 5, skiprows=range(6,220), parse_cols = \"E:G\")\n",
    "    df['deltaGdp'] = df['GDP in billions of chained 2009 dollars'] - df['GDP in billions of chained 2009 dollars'].shift(1)\n",
    "    df['negGdpChang'] = df['deltaGdp']<0\n",
    "    df['recession'] = df['negGdpChang'] & df['negGdpChang'].shift(-1)\n",
    "    answer = df[df['recession']==True].index[0]\n",
    "    return answer\n",
    "\n",
    "\n"
   ]
  },
  {
   "cell_type": "code",
   "execution_count": 6,
   "metadata": {
    "collapsed": false
   },
   "outputs": [],
   "source": [
    "def get_recession_end():\n",
    "    '''Returns the year and quarter of the recession end time as a \n",
    "    string value in a format such as 2005q3'''\n",
    "    df = pd.read_excel('gdplev.xls', header = 5, skiprows=range(6,220), parse_cols = \"E:G\")\n",
    "    df['deltaGdp'] = df['GDP in billions of chained 2009 dollars'] - df['GDP in billions of chained 2009 dollars'].shift(1)\n",
    "    df['negGdpChang'] = df['deltaGdp']<0\n",
    "    df['recession end'] = ((df['negGdpChang'] == False) &  (df['negGdpChang'].shift(1) == False) &\n",
    "                           (df['negGdpChang'].shift(2) == True) & (df['negGdpChang'].shift(3) == True))\n",
    "    answer = df[df['recession end']==True].index[0] \n",
    "    return answer"
   ]
  },
  {
   "cell_type": "code",
   "execution_count": 7,
   "metadata": {
    "collapsed": false
   },
   "outputs": [],
   "source": [
    "def get_recession_bottom():\n",
    "    '''Returns the year and quarter of the recession bottom time as a \n",
    "    string value in a format such as 2005q3'''\n",
    "    df = pd.read_excel('gdplev.xls', header = 5, skiprows=range(6,220), parse_cols = \"E:G\")\n",
    "    df['deltaGdp'] = df['GDP in billions of chained 2009 dollars'] - df['GDP in billions of chained 2009 dollars'].shift(1)\n",
    "    df['negGdpChang'] = df['deltaGdp']<0\n",
    "    recession_start = get_recession_start()\n",
    "    recession_end = get_recession_end()\n",
    "    df2 = df.loc[recession_start:recession_end]  # isolates only the range of the recession\n",
    "    answer = df2[df2['GDP in billions of chained 2009 dollars'] == min(df2['GDP in billions of chained 2009 dollars'] )].index[0]\n",
    "    return answer"
   ]
  },
  {
   "cell_type": "code",
   "execution_count": 8,
   "metadata": {
    "collapsed": false
   },
   "outputs": [],
   "source": [
    "def convert_housing_data_to_quarters():\n",
    "    '''Converts the housing data to quarters and returns it as mean \n",
    "    values in a dataframe. This dataframe should be a dataframe with\n",
    "    columns for 2000q1 through 2016q3, and should have a multi-index\n",
    "    in the shape of [\"State\",\"RegionName\"].\n",
    "    \n",
    "    Note: Quarters are defined in the assignment description, they are\n",
    "    not arbitrary three month periods.\n",
    "    \n",
    "    The resulting dataframe should have 67 columns, and 10,730 rows.\n",
    "    '''\n",
    "    df = pd.read_csv('City_Zhvi_AllHomes.csv')\n",
    "    yrMos = df.columns.values[6:]\n",
    "    df[yrMos[-3:]]\n",
    "    df2 = df[['State', 'RegionName']]\n",
    "    #np.mean(df[yrMos[0:3]],axis = 1)\n",
    "    index = 0 \n",
    "    for yrMo in yrMos:\n",
    "        if int(yrMo[0:4]) < 2000:\n",
    "            index = index+1\n",
    "            continue \n",
    "        if '-01' in yrMo:\n",
    "            yr = yrMo[0:4]\n",
    "            quarter = 'q1'\n",
    "            df2[yr+quarter] = np.mean(df[yrMos[index:(index+3)]],axis = 1)\n",
    "        if '-04' in yrMo:\n",
    "            yr = yrMo[0:4]\n",
    "            quarter = 'q2'\n",
    "            df2[yr+quarter] = np.mean(df[yrMos[index:(index+3)]],axis = 1)\n",
    "        if '-07' in yrMo:\n",
    "            yr = yrMo[0:4]\n",
    "            quarter = 'q3'\n",
    "            df2[yr+quarter] = np.mean(df[yrMos[index:(index+3)]],axis = 1)\n",
    "        if '-10' in yrMo:\n",
    "            yr = yrMo[0:4]\n",
    "            quarter = 'q4'\n",
    "            df2[yr+quarter] = np.mean(df[yrMos[index:(index+3)]],axis = 1)\n",
    "        index = index+1\n",
    "    df2 = df2.replace({'State': states})\n",
    "    df2 = df2.set_index(['State', 'RegionName'])\n",
    "    return df2"
   ]
  },
  {
   "cell_type": "code",
   "execution_count": 51,
   "metadata": {
    "collapsed": false
   },
   "outputs": [
    {
     "name": "stderr",
     "output_type": "stream",
     "text": [
      "/opt/conda/lib/python3.5/site-packages/ipykernel/__main__.py:25: SettingWithCopyWarning: \n",
      "A value is trying to be set on a copy of a slice from a DataFrame.\n",
      "Try using .loc[row_indexer,col_indexer] = value instead\n",
      "\n",
      "See the caveats in the documentation: http://pandas.pydata.org/pandas-docs/stable/indexing.html#indexing-view-versus-copy\n",
      "/opt/conda/lib/python3.5/site-packages/ipykernel/__main__.py:29: SettingWithCopyWarning: \n",
      "A value is trying to be set on a copy of a slice from a DataFrame.\n",
      "Try using .loc[row_indexer,col_indexer] = value instead\n",
      "\n",
      "See the caveats in the documentation: http://pandas.pydata.org/pandas-docs/stable/indexing.html#indexing-view-versus-copy\n",
      "/opt/conda/lib/python3.5/site-packages/ipykernel/__main__.py:33: SettingWithCopyWarning: \n",
      "A value is trying to be set on a copy of a slice from a DataFrame.\n",
      "Try using .loc[row_indexer,col_indexer] = value instead\n",
      "\n",
      "See the caveats in the documentation: http://pandas.pydata.org/pandas-docs/stable/indexing.html#indexing-view-versus-copy\n",
      "/opt/conda/lib/python3.5/site-packages/ipykernel/__main__.py:37: SettingWithCopyWarning: \n",
      "A value is trying to be set on a copy of a slice from a DataFrame.\n",
      "Try using .loc[row_indexer,col_indexer] = value instead\n",
      "\n",
      "See the caveats in the documentation: http://pandas.pydata.org/pandas-docs/stable/indexing.html#indexing-view-versus-copy\n"
     ]
    },
    {
     "name": "stdout",
     "output_type": "stream",
     "text": [
      "2.61350012776\n",
      "0.00897558754071\n"
     ]
    },
    {
     "name": "stderr",
     "output_type": "stream",
     "text": [
      "/opt/conda/lib/python3.5/site-packages/ipykernel/__main__.py:27: SettingWithCopyWarning: \n",
      "A value is trying to be set on a copy of a slice from a DataFrame\n",
      "\n",
      "See the caveats in the documentation: http://pandas.pydata.org/pandas-docs/stable/indexing.html#indexing-view-versus-copy\n"
     ]
    }
   ],
   "source": [
    "def run_ttest():\n",
    "    '''First creates new data showing the decline or growth of housing prices\n",
    "    between the recession start and the recession bottom. Then runs a ttest\n",
    "    comparing the university town values to the non-university towns values, \n",
    "    return whether the alternative hypothesis (that the two groups are the same)\n",
    "    is true or not as well as the p-value of the confidence. \n",
    "    \n",
    "    Return the tuple (different, p, better) where different=True if the t-test is\n",
    "    True at a p<0.01 (we reject the null hypothesis), or different=False if \n",
    "    otherwise (we cannot reject the null hypothesis). The variable p should\n",
    "    be equal to the exact p value returned from scipy.stats.ttest_ind(). The\n",
    "    value for better should be either \"university town\" or \"non-university town\"\n",
    "    depending on which has a lower mean price ratio (which is equivilent to a\n",
    "    reduced market loss).'''\n",
    "    housingVals = convert_housing_data_to_quarters()\n",
    "    uTowns = get_list_of_university_towns()\n",
    "    recession_start = get_recession_start()\n",
    "    recession_bottom = get_recession_bottom()\n",
    "    percent_change = (housingVals[recession_bottom] -housingVals[recession_start]) *100 / housingVals[recession_start]\n",
    "    uTowns['is U town'] = True\n",
    "    percent_change = pd.DataFrame(percent_change, columns= ['% change'])\n",
    "    df2 = pd.merge(percent_change, uTowns, how='left', left_index=True, right_on=['State', 'RegionName'])\n",
    "    df2['is U town'][df2['is U town'] != True] = False\n",
    "    collegeTownChange = df2[df2['is U town'] == True]\n",
    "    nonCollegeTownChange = df2[df2['is U town'] == False]\n",
    "    collegeTownChange = collegeTownChange.dropna()\n",
    "    nonCollegeTownChange = nonCollegeTownChange.dropna()\n",
    "    statistic, pvalue = ttest_ind(collegeTownChange['% change'], nonCollegeTownChange['% change'])\n",
    "    if statistic>0:\n",
    "        better = 'university town'\n",
    "    else:\n",
    "        better = 'non-university town'\n",
    "    if pvalue<0.01:\n",
    "        different = True\n",
    "    else:\n",
    "        different = False\n",
    "    answer = (different, pvalue, better)\n",
    "    return answer\n",
    "\n"
   ]
  },
  {
   "cell_type": "code",
   "execution_count": null,
   "metadata": {
    "collapsed": true
   },
   "outputs": [],
   "source": []
  }
 ],
 "metadata": {
  "coursera": {
   "course_slug": "python-data-analysis",
   "graded_item_id": "Il9Fx",
   "launcher_item_id": "TeDW0",
   "part_id": "WGlun"
  },
  "kernelspec": {
   "display_name": "Python 3",
   "language": "python",
   "name": "python3"
  },
  "language_info": {
   "codemirror_mode": {
    "name": "ipython",
    "version": 3
   },
   "file_extension": ".py",
   "mimetype": "text/x-python",
   "name": "python",
   "nbconvert_exporter": "python",
   "pygments_lexer": "ipython3",
   "version": "3.5.2"
  }
 },
 "nbformat": 4,
 "nbformat_minor": 0
}
